{
 "nbformat": 4,
 "nbformat_minor": 0,
 "metadata": {
  "colab": {
   "name": "Bills.ipynb",
   "provenance": [
    {
     "file_id": "1pj5Ciqh4bKZLfVfFYd6cyVXDANFNgz8O",
     "timestamp": 1627913832465
    }
   ],
   "collapsed_sections": [],
   "authorship_tag": "ABX9TyMQMFZNGzXrMlznjvfQlJLj"
  },
  "kernelspec": {
   "name": "python3",
   "display_name": "Python 3"
  },
  "language_info": {
   "name": "python"
  }
 },
 "cells": [
  {
   "cell_type": "markdown",
   "metadata": {
    "id": "06ZuEVn-Q-LE"
   },
   "source": [
    "Import some data from govtrack.us.\n",
    "\n",
    "We will create a file on Colab's hard drive. There are more places to load data from: https://neptune.ai/blog/google-colab-dealing-with-files"
   ]
  },
  {
   "cell_type": "code",
   "metadata": {
    "id": "Al_0dkeROXJ2"
   },
   "source": [
    "import csv\n",
    "import os\n",
    "from typing import Tuple\n",
    "\n",
    "import bs4\n",
    "import requests\n",
    "# \"https://www.govtrack.us/congress/bills/116/hr221/summary\"\n",
    "# \"https://www.govtrack.us/congress/bills/116/hr221\"\n",
    "\n",
    "NO_SUCH_BILL = \"NO SUCH BILL\"\n",
    "\n",
    "\n",
    "def get_summary(bill_id: int) -> str:\n",
    "    summary_url = f\"https://www.govtrack.us/congress/bills/116/hr{bill_id}/summary\"\n",
    "    summary_html = requests.get(summary_url)\n",
    "    if summary_html.status_code == 404:\n",
    "        return NO_SUCH_BILL\n",
    "\n",
    "    soup = bs4.BeautifulSoup(summary_html.text, 'html.parser')\n",
    "    summary = soup.find(\"div\", {\"id\": \"libraryofcongress\"})\n",
    "    summary_parts = []\n",
    "    if not hasattr(summary, \"contents\"):\n",
    "        print()\n",
    "    if len(summary.contents) < 4:\n",
    "        if \"No summary available.\" in summary.text:\n",
    "            return \"No summary available.\"\n",
    "        print(summary.text)\n",
    "        raise TypeError('uh oh')\n",
    "\n",
    "    for element in summary.contents[3]:\n",
    "        if \"<script>\" in str(element):\n",
    "            continue\n",
    "        if not hasattr(element, \"text\"):\n",
    "            continue\n",
    "        text = element.text\n",
    "        if text.strip():\n",
    "            summary_parts.append(text)\n",
    "    return \"\\n\".join(summary_parts)\n",
    "\n",
    "\n",
    "def get_status(bill_id: int) -> str:\n",
    "    status_url = f\"https://www.govtrack.us/congress/bills/116/hr{bill_id}\"\n",
    "    status_html = requests.get(status_url)\n",
    "    if status_html.status_code == 404:\n",
    "        return NO_SUCH_BILL\n",
    "\n",
    "    soup = bs4.BeautifulSoup(status_html.text, 'html.parser')\n",
    "    # oh this is so fragile\n",
    "    rows = soup.findAll(\"div\", {\"class\": [\"row\"]})\n",
    "    status = None\n",
    "    for row in rows:\n",
    "        status = row.findAll(\"div\", {\"class\": [\"col-sm-9\", \"col-md-10\"]})\n",
    "        if status:\n",
    "            break\n",
    "    if not status:\n",
    "        raise TypeError(\"Can't find it\")\n",
    "    summary_parts = []\n",
    "    if \"Died in a previous Congress\" in str(status[1].contents):\n",
    "        return \"Died in a previous Congress\"\n",
    "    if \"incorporated\" in str(status[1].contents):\n",
    "        return \"Incorporated into another bill\"\n",
    "    for element in status[1].contents:\n",
    "        if \"<script>\" in str(element):\n",
    "            continue\n",
    "        if not hasattr(element, \"text\"):\n",
    "            continue\n",
    "        text = element.text\n",
    "        if text.strip() and \"—\" in text:\n",
    "            summary_parts.append(text.split(\"—\")[0].strip())\n",
    "    if not summary_parts:\n",
    "        print(\"Uh oh\")\n",
    "        print(status[1].contents)\n",
    "    return \"\\n\".join(summary_parts)\n",
    "\n",
    "\n",
    "def locate_file(file_name: str, executing_file: str) -> str:\n",
    "    \"\"\"\n",
    "    Find file relative to a source file, e.g.\n",
    "    locate(\"foo/bar.txt\", __file__)\n",
    "\n",
    "    Succeeds regardless to context of execution\n",
    "    \"\"\"\n",
    "    file_path = os.path.join(\n",
    "        os.path.dirname(os.path.abspath(executing_file)), file_name\n",
    "    )\n",
    "    return file_path\n",
    "\n",
    "\n",
    "def load_all(start: int, end: int) -> Tuple[int, int]:\n",
    "    # file_name = locate_file(\"data2.csv\", __file__)\n",
    "    file_name = \"data.csv\"\n",
    "    try:\n",
    "      os.remove(file_name)\n",
    "    except FileNotFoundError:\n",
    "      pass\n",
    "    success = 0\n",
    "    errors = 0\n",
    "    with open(file_name, 'a', newline='') as csvfile:\n",
    "        for bill_id in range(start, end):\n",
    "            try:\n",
    "                summary = get_summary(bill_id=bill_id)\n",
    "                if summary == NO_SUCH_BILL:\n",
    "                    continue\n",
    "                status = get_status(bill_id=bill_id)\n",
    "                writer = csv.writer(csvfile)\n",
    "                writer.writerow([bill_id, status, summary])\n",
    "                print(bill_id, \"status\", status, \"summary\",\n",
    "                      summary.split(\"\\n\")[0][0:80] + \"...\")\n",
    "                success += 1\n",
    "            except Exception as ex:\n",
    "                errors += 1\n",
    "                print(ex)\n",
    "    return success, errors\n"
   ],
   "execution_count": null,
   "outputs": []
  },
  {
   "cell_type": "markdown",
   "metadata": {
    "id": "eCReQOc5mpuv"
   },
   "source": [
    "Load data from original source. This is slow, consider using the prebuilt dataset in next step."
   ]
  },
  {
   "cell_type": "code",
   "metadata": {
    "colab": {
     "base_uri": "https://localhost:8080/"
    },
    "id": "igA7Z1mGOynm",
    "executionInfo": {
     "status": "ok",
     "timestamp": 1627914717579,
     "user_tz": 240,
     "elapsed": 39299,
     "user": {
      "displayName": "Matthew Martin",
      "photoUrl": "https://lh3.googleusercontent.com/a-/AOh14Gg8LhD8U5vItzfwBHo6pXgo0tFk4MAgjZdCucH9OA=s64",
      "userId": "11547462476684666687"
     }
    },
    "outputId": "7d6d37c8-98cf-4cbb-edd5-374548e2955d"
   },
   "source": [
    "load_all(1, 20)"
   ],
   "execution_count": null,
   "outputs": [
    {
     "output_type": "stream",
     "text": [
      "1 status Died in a previous Congress summary For the People Act of 2019...\n",
      "2 status Died in a previous Congress summary Investing in a New Vision for the Environment and Surface Transportation in Amer...\n",
      "3 status Died in a previous Congress summary Elijah E. Cummings Lower Drug Costs Now Act...\n",
      "4 status Died in a previous Congress summary Voting Rights Advancement Act of 2019...\n",
      "5 status Died in a previous Congress summary Equality Act...\n",
      "6 status Died in a previous Congress summary American Dream and Promise Act of 2019...\n",
      "7 status Died in a previous Congress summary Paycheck Fairness Act...\n",
      "8 status Died in a previous Congress summary Bipartisan Background Checks Act of 2019...\n",
      "9 status Died in a previous Congress summary Climate Action Now Act...\n",
      "11 status Died in a previous Congress summary No summary available....\n",
      "12 status Died in a previous Congress summary China Task Force Act or the CTF Act...\n",
      "13 status Died in a previous Congress summary No summary available....\n",
      "14 status Died in a previous Congress summary No summary available....\n",
      "19 status Died in a previous Congress summary No summary available....\n"
     ],
     "name": "stdout"
    },
    {
     "output_type": "execute_result",
     "data": {
      "text/plain": [
       "(14, 0)"
      ]
     },
     "metadata": {
      "tags": []
     },
     "execution_count": 13
    }
   ]
  },
  {
   "cell_type": "markdown",
   "metadata": {
    "id": "vqNOmmakm1JY"
   },
   "source": [
    "Here we load the data from Github. 1000 rows of data.\n"
   ]
  },
  {
   "cell_type": "code",
   "metadata": {
    "colab": {
     "base_uri": "https://localhost:8080/",
     "height": 204
    },
    "id": "6rAmvOFVRUs9",
    "executionInfo": {
     "status": "ok",
     "timestamp": 1627919119959,
     "user_tz": 240,
     "elapsed": 487,
     "user": {
      "displayName": "Matthew Martin",
      "photoUrl": "https://lh3.googleusercontent.com/a-/AOh14Gg8LhD8U5vItzfwBHo6pXgo0tFk4MAgjZdCucH9OA=s64",
      "userId": "11547462476684666687"
     }
    },
    "outputId": "fe65a99d-4198-48b0-a137-3d1e9e40f072"
   },
   "source": [
    "import itertools\n",
    "\n",
    "from sklearn.feature_extraction.text import CountVectorizer\n",
    "from sklearn.model_selection import train_test_split\n",
    "from sklearn import metrics\n",
    "from sklearn.ensemble import RandomForestClassifier\n",
    "import numpy as np\n",
    "import pandas as pd\n",
    "import io\n",
    "import requests\n",
    "\n",
    "# Use a file that you download\n",
    "# input_file = \"data.csv\"\n",
    "# comma delimited is the default\n",
    "# df = pd.read_csv(input_file,\n",
    "#                  names=[\"bill_id\", \"status\", \"summary\"],\n",
    "#                  encoding='cp1252')\n",
    "\n",
    "# use a premade file\n",
    "url=\"https://raw.githubusercontent.com/matthewdeanmartin/bills_with_nlp/main/data.csv\"\n",
    "s=requests.get(url).content\n",
    "df=pd.read_csv(io.StringIO(s.decode('cp1252')),\n",
    "              names=[\"bill_id\", \"status\", \"summary\"])\n",
    "\n",
    "df.head()\n",
    "\n"
   ],
   "execution_count": 1,
   "outputs": [
    {
     "ename": "ModuleNotFoundError",
     "evalue": "No module named 'sklearn'",
     "output_type": "error",
     "traceback": [
      "\u001B[1;31m---------------------------------------------------------------------------\u001B[0m",
      "\u001B[1;31mModuleNotFoundError\u001B[0m                       Traceback (most recent call last)",
      "\u001B[1;32m~\\AppData\\Local\\Temp/ipykernel_39068/4064655917.py\u001B[0m in \u001B[0;36m<module>\u001B[1;34m\u001B[0m\n\u001B[0;32m      1\u001B[0m \u001B[1;32mimport\u001B[0m \u001B[0mitertools\u001B[0m\u001B[1;33m\u001B[0m\u001B[1;33m\u001B[0m\u001B[0m\n\u001B[0;32m      2\u001B[0m \u001B[1;33m\u001B[0m\u001B[0m\n\u001B[1;32m----> 3\u001B[1;33m \u001B[1;32mfrom\u001B[0m \u001B[0msklearn\u001B[0m\u001B[1;33m.\u001B[0m\u001B[0mfeature_extraction\u001B[0m\u001B[1;33m.\u001B[0m\u001B[0mtext\u001B[0m \u001B[1;32mimport\u001B[0m \u001B[0mCountVectorizer\u001B[0m\u001B[1;33m\u001B[0m\u001B[1;33m\u001B[0m\u001B[0m\n\u001B[0m\u001B[0;32m      4\u001B[0m \u001B[1;32mfrom\u001B[0m \u001B[0msklearn\u001B[0m\u001B[1;33m.\u001B[0m\u001B[0mmodel_selection\u001B[0m \u001B[1;32mimport\u001B[0m \u001B[0mtrain_test_split\u001B[0m\u001B[1;33m\u001B[0m\u001B[1;33m\u001B[0m\u001B[0m\n\u001B[0;32m      5\u001B[0m \u001B[1;32mfrom\u001B[0m \u001B[0msklearn\u001B[0m \u001B[1;32mimport\u001B[0m \u001B[0mmetrics\u001B[0m\u001B[1;33m\u001B[0m\u001B[1;33m\u001B[0m\u001B[0m\n",
      "\u001B[1;31mModuleNotFoundError\u001B[0m: No module named 'sklearn'"
     ]
    }
   ]
  },
  {
   "cell_type": "markdown",
   "metadata": {
    "id": "x4XfPRiOnKg_"
   },
   "source": [
    "Stemming removes some noise from the data, in particular, we don't want to be so strict about what words are the same. \"Apple\", \"Apples\" should be treated as the same work. Also remove noise like numbers and things that are numberlike."
   ]
  },
  {
   "cell_type": "code",
   "metadata": {
    "colab": {
     "base_uri": "https://localhost:8080/",
     "height": 204
    },
    "id": "0eWM14YGdFM1",
    "executionInfo": {
     "status": "ok",
     "timestamp": 1627919751193,
     "user_tz": 240,
     "elapsed": 2907,
     "user": {
      "displayName": "Matthew Martin",
      "photoUrl": "https://lh3.googleusercontent.com/a-/AOh14Gg8LhD8U5vItzfwBHo6pXgo0tFk4MAgjZdCucH9OA=s64",
      "userId": "11547462476684666687"
     }
    },
    "outputId": "c01f02bc-acac-4a22-9fc6-8de56024c68b"
   },
   "source": [
    "# show stemmer\n",
    "from nltk.stem import PorterStemmer\n",
    "from nltk.tokenize import word_tokenize\n",
    "import string\n",
    "\n",
    "ps = PorterStemmer()\n",
    " \n",
    "# choose some words to be stemmed\n",
    "words = [\"program\", \"programs\", \"programmer\", \"programming\", \"programmers\"]\n",
    "def stem(text):\n",
    "  stems = (ps.stem(w.translate(str.maketrans('', '', string.punctuation))) for w in text.split())\n",
    "  word_stems = filter(lambda x: x.isalpha(), stems)\n",
    "  return \" \".join(word_stems)\n",
    "\n",
    "df[\"summary\"] = df[\"summary\"].apply(stem)\n",
    "\n",
    "df.head()"
   ],
   "execution_count": 48,
   "outputs": [
    {
     "output_type": "execute_result",
     "data": {
      "text/html": [
       "<div>\n",
       "<style scoped>\n",
       "    .dataframe tbody tr th:only-of-type {\n",
       "        vertical-align: middle;\n",
       "    }\n",
       "\n",
       "    .dataframe tbody tr th {\n",
       "        vertical-align: top;\n",
       "    }\n",
       "\n",
       "    .dataframe thead th {\n",
       "        text-align: right;\n",
       "    }\n",
       "</style>\n",
       "<table border=\"1\" class=\"dataframe\">\n",
       "  <thead>\n",
       "    <tr style=\"text-align: right;\">\n",
       "      <th></th>\n",
       "      <th>bill_id</th>\n",
       "      <th>status</th>\n",
       "      <th>summary</th>\n",
       "    </tr>\n",
       "  </thead>\n",
       "  <tbody>\n",
       "    <tr>\n",
       "      <th>0</th>\n",
       "      <td>1</td>\n",
       "      <td>Died in a previous Congress</td>\n",
       "      <td>for the peopl act of thi bill address voter ac...</td>\n",
       "    </tr>\n",
       "    <tr>\n",
       "      <th>1</th>\n",
       "      <td>2</td>\n",
       "      <td>Died in a previous Congress</td>\n",
       "      <td>invest in a new vision for the environ and sur...</td>\n",
       "    </tr>\n",
       "    <tr>\n",
       "      <th>2</th>\n",
       "      <td>3</td>\n",
       "      <td>Died in a previous Congress</td>\n",
       "      <td>elijah E cum lower drug cost now act thi bill ...</td>\n",
       "    </tr>\n",
       "    <tr>\n",
       "      <th>3</th>\n",
       "      <td>4</td>\n",
       "      <td>Died in a previous Congress</td>\n",
       "      <td>vote right advanc act of thi bill establish ne...</td>\n",
       "    </tr>\n",
       "    <tr>\n",
       "      <th>4</th>\n",
       "      <td>5</td>\n",
       "      <td>Died in a previous Congress</td>\n",
       "      <td>equal act thi bill prohibit discrimin base on ...</td>\n",
       "    </tr>\n",
       "  </tbody>\n",
       "</table>\n",
       "</div>"
      ],
      "text/plain": [
       "   bill_id  ...                                            summary\n",
       "0        1  ...  for the peopl act of thi bill address voter ac...\n",
       "1        2  ...  invest in a new vision for the environ and sur...\n",
       "2        3  ...  elijah E cum lower drug cost now act thi bill ...\n",
       "3        4  ...  vote right advanc act of thi bill establish ne...\n",
       "4        5  ...  equal act thi bill prohibit discrimin base on ...\n",
       "\n",
       "[5 rows x 3 columns]"
      ]
     },
     "metadata": {
      "tags": []
     },
     "execution_count": 48
    }
   ]
  },
  {
   "cell_type": "markdown",
   "metadata": {
    "id": "iNsHxaY1ndfe"
   },
   "source": [
    "Now we get the data into a format that sklearn can use-- we spit columns into X's (predictors) and Y's (things to be predicted)\n"
   ]
  },
  {
   "cell_type": "code",
   "metadata": {
    "colab": {
     "base_uri": "https://localhost:8080/",
     "height": 275
    },
    "id": "xwH8ZWJzchn8",
    "executionInfo": {
     "status": "ok",
     "timestamp": 1627920534897,
     "user_tz": 240,
     "elapsed": 421,
     "user": {
      "displayName": "Matthew Martin",
      "photoUrl": "https://lh3.googleusercontent.com/a-/AOh14Gg8LhD8U5vItzfwBHo6pXgo0tFk4MAgjZdCucH9OA=s64",
      "userId": "11547462476684666687"
     }
    },
    "outputId": "667cecd1-8672-4ca7-fc90-54b81f78dc91"
   },
   "source": [
    "# Getting features of dataframe\n",
    "# Same as SELECT feature1, feature2, feature3 FROM data\n",
    "# X = data[[\"feature1\", \"feature2\", \"feature3\"]]\n",
    "vectorizer = CountVectorizer()\n",
    "X = vectorizer.fit_transform(df[\"summary\"])\n",
    "print(vectorizer.get_feature_names())\n",
    "\n",
    "y = df['status']  # Labels\n",
    "\n",
    "pd.DataFrame(X).head()\n",
    "pd.DataFrame(y).head()\n",
    "\n",
    "# Split dataset into training set and test set\n",
    "# Set random state to make runs repeatable\n",
    "X_train, X_test, y_train, y_test = train_test_split(X, y, \n",
    "                                                    test_size=0.25, \n",
    "                                                    random_state=42)\n",
    "print(\"Training Xs\")\n",
    "pd.DataFrame(X_train).head()\n",
    "\n",
    "print(\"Testing Xs\")\n",
    "pd.DataFrame(X_train).head()\n"
   ],
   "execution_count": 58,
   "outputs": [
    {
     "output_type": "stream",
     "text": [
      "['abandon', 'abat', 'abba', 'abbi', 'abduct', 'abil', 'abingdon', 'abkhazia', 'abl', 'aboard', 'abolish', 'abort', 'abortionrel', 'about', 'abov', 'abovethelin', 'abraham', 'abridg', 'abroad', 'absenc', 'absent', 'abu', 'abut', 'academ', 'academi', 'acadia', 'accel', 'accept', 'access', 'accessori', 'accid', 'accommod', 'accompani', 'accomplish', 'accord', 'account', 'accredit', 'accru', 'accur', 'accuraci', 'achiev', 'acidif', 'acknowledg', 'acl', 'aco', 'acoronaviru', 'acoverag', 'acquir', 'acquisit', 'acr', 'acreag', 'acreforacr', 'across', 'act', 'action', 'activ', 'activeduti', 'actor', 'actthi', 'actual', 'acut', 'ad', 'adam', 'adapt', 'add', 'addit', 'additiondo', 'address', 'adequ', 'adequaci', 'adher', 'adjac', 'adjud', 'adjudicatori', 'adjust', 'administ', 'administr', 'admiss', 'admit', 'admitt', 'adopt', 'adrenoleukodystrophi', 'adult', 'advanc', 'advancededuc', 'advantag', 'adver', 'adversari', 'adverti', 'advi', 'advic', 'advisor', 'advisori', 'advoc', 'advocaci', 'aemploy', 'aerial', 'aeronaut', 'aexpedit', 'afed', 'affair', 'affairsadminist', 'affect', 'affili', 'affirm', 'afford', 'afghanistan', 'afor', 'africa', 'african', 'africanamerican', 'after', 'afterschool', 'ag', 'again', 'against', 'agav', 'age', 'ageba', 'agenc', 'agenda', 'agent', 'aggrav', 'aggreg', 'aggriev', 'agr', 'agreement', 'agricultur', 'agrodefen', 'ahealth', 'ahl', 'ai', 'aid', 'aidan', 'aim', 'air', 'airborn', 'aircraft', 'airlin', 'airmil', 'airport', 'airspac', 'airway', 'aisl', 'akeep', 'alabamacoushatta', 'alaska', 'alaskan', 'alcohol', 'ald', 'alejandra', 'alert', 'alga', 'algal', 'algorithm', 'alhaq', 'ali', 'alien', 'align', 'aliv', 'alkhazali', 'all', 'allamerican', 'alleg', 'allegheni', 'allegi', 'allergi', 'allevi', 'allhazard', 'alli', 'allianc', 'allig', 'allinclu', 'alloc', 'allot', 'allow', 'alnujaba', 'alon', 'along', 'alreadi', 'alreadydesign', 'also', 'alter', 'altern', 'alway', 'amateur', 'ambassador', 'ambassadorrank', 'ambul', 'ame', 'amend', 'america', 'american', 'amigo', 'ammunit', 'ammunitionan', 'among', 'amongst', 'amount', 'amphibi', 'amtrak', 'amu', 'an', 'anadrom', 'anali', 'analysi', 'analyz', 'anatom', 'and', 'aneurysm', 'ani', 'anim', 'ann', 'annex', 'anniversari', 'annot', 'announc', 'annual', 'annuiti', 'anonym', 'anoth', 'answer', 'antacid', 'antenna', 'anticip', 'anticorrupt', 'antidiscrimin', 'antidop', 'antidril', 'antidump', 'antietam', 'antilynch', 'antimoney', 'antisemit', 'antiswat', 'antiterror', 'antitraffick', 'anyon', 'ape', 'appalachia', 'appalachian', 'apparel', 'appeal', 'appel', 'appli', 'applianc', 'applic', 'appoint', 'apport', 'apprai', 'apprehend', 'apprenticeship', 'approach', 'appropri', 'approv', 'approxim', 'appurten', 'april', 'aprocedur', 'aquat', 'aqueou', 'aquif', 'arabia', 'arapaho', 'arbitr', 'arbitrarili', 'arbuckl', 'arc', 'archeolog', 'archer', 'architect', 'archiv', 'archivaldo', 'arctic', 'are', 'area', 'ari', 'arizona', 'arkansa', 'arlington', 'arm', 'armi', 'armor', 'armorpierc', 'around', 'arpita', 'arrang', 'arrest', 'arriv', 'arrivaldepartur', 'arrow', 'art', 'articl', 'artifici', 'as', 'asaib', 'asap', 'ascend', 'ashton', 'asian', 'asid', 'ask', 'asmal', 'asne', 'assaib', 'assault', 'assembl', 'assert', 'assess', 'asset', 'assetverif', 'assign', 'assist', 'assistancerel', 'associ', 'assum', 'assumpt', 'assur', 'asylum', 'asylumrel', 'asylumseek', 'at', 'atf', 'athlet', 'atlant', 'atmosph', 'atria', 'atrisk', 'attach', 'attack', 'attain', 'attempt', 'attend', 'attent', 'attest', 'attorney', 'attract', 'attribut', 'auction', 'audit', 'august', 'aunemploy', 'australia', 'author', 'automat', 'automobil', 'autonom', 'autopsi', 'auxiliari', 'avail', 'avenu', 'averag', 'avert', 'aviat', 'avoid', 'awar', 'award', 'ayrault', 'babi', 'back', 'background', 'backlog', 'backpay', 'backup', 'bad', 'baddit', 'badg', 'bagenc', 'bahama', 'bair', 'balanc', 'ballist', 'ballot', 'ban', 'band', 'bank', 'bankruptci', 'bar', 'barack', 'barbado', 'barbara', 'bargain', 'barit', 'barn', 'barr', 'barrier', 'base', 'baseb', 'baselin', 'basi', 'basic', 'basin', 'bathroom', 'battl', 'battlefield', 'bay', 'bd', 'be', 'bear', 'beaufort', 'becam', 'becau', 'becom', 'bed', 'beduc', 'bee', 'been', 'befor', 'began', 'begin', 'behalf', 'behavior', 'behind', 'belief', 'believ', 'bell', 'belong', 'below', 'belowmarket', 'belt', 'bemerg', 'benchmark', 'bend', 'benefici', 'beneficiari', 'benefit', 'benefitsregistr', 'benghazi', 'benito', 'benjamin', 'benton', 'bentonit', 'ber', 'bereav', 'bernardino', 'berth', 'best', 'bestpract', 'better', 'between', 'beverag', 'beyond', 'bfeder', 'bhi', 'bia', 'bicam', 'bid', 'biennial', 'bifida', 'big', 'bilat', 'bill', 'billion', 'bind', 'bio', 'bioengin', 'biofuel', 'biolog', 'biom', 'biomark', 'biomassba', 'biometr', 'biosimilar', 'biosurveil', 'bipartisan', 'bird', 'birdsaf', 'birth', 'birthright', 'bistineau', 'bitterbrush', 'black', 'blain', 'blake', 'blank', 'blend', 'blind', 'blm', 'block', 'blockchain', 'blood', 'bloom', 'blue', 'bmitig', 'board', 'boardandcar', 'bob', 'bodi', 'bodili', 'bodyworn', 'bolivarian', 'bolli', 'bolt', 'bona', 'bond', 'bono', 'bonu', 'book', 'bop', 'border', 'born', 'bornal', 'borrow', 'boskoff', 'both', 'boundari', 'bounti', 'bow', 'bowen', 'boycot', 'boycott', 'brace', 'bracket', 'brain', 'brake', 'branch', 'brandnam', 'brave', 'braveri', 'breach', 'breadth', 'break', 'breakfast', 'breastf', 'breastfe', 'breath', 'brebat', 'bred', 'breech', 'brent', 'briberi', 'brick', 'bridg', 'brief', 'bring', 'bristol', 'british', 'broad', 'broadband', 'broadcast', 'broaden', 'broadmoor', 'broker', 'brokerag', 'bronz', 'brought', 'bseat', 'bsupport', 'budget', 'budgetari', 'buffalo', 'bug', 'build', 'built', 'bulg', 'bulk', 'bulkpow', 'bullet', 'bullhead', 'bulli', 'bumpfir', 'burden', 'burdensom', 'bureau', 'bureaucrat', 'burial', 'burma', 'burn', 'burwel', 'bush', 'busi', 'businesscoop', 'businesslik', 'businessrel', 'businesss', 'but', 'buy', 'buyback', 'by', 'byproduct', 'byrn', 'byron', 'byway', 'cabinet', 'caesar', 'cafe', 'cafeteria', 'calcul', 'calendar', 'calexico', 'california', 'californiamexico', 'call', 'calleridentif', 'cambodia', 'cambodian', 'came', 'camera', 'camp', 'campaign', 'campu', 'can', 'canada', 'canadian', 'canal', 'cancel', 'cancer', 'candid', 'cannabi', 'cannot', 'canyon', 'canyonsteelhead', 'cap', 'capabl', 'capac', 'cape', 'capit', 'capitol', 'captain', 'captiv', 'captur', 'car', 'carbon', 'carboninten', 'carcieri', 'carcinoma', 'card', 'cardiac', 'care', 'career', 'caregiv', 'carer', 'caretak', 'cargo', 'caribbean', 'caricom', 'carney', 'carolina', 'carr', 'carri', 'carrier', 'carrol', 'carryov', 'carson', 'cartel', 'cartographi', 'cartridg', 'cascad', 'cascadia', 'case', 'casebyca', 'casework', 'cash', 'cass', 'cast', 'casualti', 'cat', 'catadrom', 'catalog', 'catastroph', 'categori', 'cau', 'cbo', 'cbusi', 'ccc', 'ccorpor', 'cdc', 'cea', 'cecl', 'cell', 'cellulo', 'cemeteri', 'censu', 'centenni', 'center', 'centerfir', 'central', 'centuri', 'ceremoni', 'certain', 'certainti', 'certif', 'certifi', 'cervida', 'cfeder', 'cfo', 'cfpb', 'cgener', 'chad', 'chain', 'chair', 'chairman', 'chairperson', 'challeng', 'chamber', 'chanc', 'chang', 'chapo', 'chapter', 'charact', 'characterist', 'charg', 'chargeabl', 'charit', 'chariti', 'charl', 'chart', 'charter', 'check', 'checkerboard', 'chemic', 'cheney', 'cherok', 'chestnut', 'chetco', 'chicano', 'chief', 'child', 'childcar', 'childhood', 'children', 'china', 'chine', 'chip', 'chippewa', 'chiropract', 'chloracn', 'chlorpyrifo', 'choic', 'choo', 'chota', 'christa', 'christoph', 'chronic', 'chronolog', 'chukchi', 'chumash', 'cia', 'cincinnati', 'cio', 'circuit', 'circular', 'circumst', 'cite', 'citi', 'citizen', 'citizenship', 'citru', 'cityown', 'civic', 'civil', 'civilian', 'clabor', 'claim', 'claimant', 'claimssec', 'clarif', 'clariti', 'clark', 'class', 'classifi', 'clau', 'clay', 'clean', 'clear', 'clearanc', 'clearancerel', 'clearingh', 'clearli', 'cleric', 'clerk', 'client', 'climat', 'clinic', 'clinician', 'clone', 'close', 'closest', 'closur', 'cloth', 'clover', 'club', 'cm', 'cmiscellan', 'cnmi', 'coach', 'coachclass', 'coal', 'coalit', 'coast', 'coastal', 'coastlin', 'coastwi', 'cockpit', 'coconino', 'cod', 'code', 'codifi', 'coercion', 'cogen', 'cohort', 'coin', 'coinsur', 'cola', 'colagrossi', 'cold', 'collabor', 'collar', 'collat', 'collect', 'collector', 'colleg', 'collier', 'colonel', 'coloni', 'color', 'colorado', 'colorect', 'columbia', 'combat', 'combatrel', 'combin', 'combust', 'come', 'comedi', 'comfort', 'command', 'commemor', 'commenc', 'commensur', 'comment', 'commerc', 'commerci', 'commercializationreadi', 'commiss', 'commit', 'committ', 'commod', 'common', 'commonli', 'commonsen', 'commonwealth', 'commun', 'communist', 'communityba', 'commut', 'compact', 'compani', 'compar', 'comparison', 'compass', 'compat', 'compel', 'compen', 'compensatori', 'compet', 'competit', 'compil', 'complaint', 'complet', 'complex', 'compli', 'complianc', 'complic', 'complicit', 'compo', 'compon', 'composit', 'compound', 'comprehen', 'compressor', 'compri', 'comptrol', 'comput', 'computerread', 'conceal', 'concentr', 'concept', 'concern', 'concernsferc', 'conclud', 'concret', 'concurr', 'concuss', 'condemn', 'condit', 'conduct', 'confed', 'confer', 'confidenti', 'confin', 'confirm', 'conflict', 'conflictofinterest', 'confluenc', 'conform', 'congreg', 'congress', 'congressman', 'conjunct', 'connect', 'connecticut', 'conscienc', 'consecut', 'consensu', 'consent', 'consequ', 'conserv', 'consid', 'consist', 'consolid', 'consortia', 'consortium', 'conspir', 'conspiraci', 'constitu', 'constitut', 'constraint', 'constru', 'construct', 'consul', 'consular', 'consult', 'consum', 'consumpt', 'cont', 'contact', 'contain', 'contamin', 'content', 'context', 'contigu', 'contin', 'continu', 'continuum', 'contra', 'contraband', 'contracept', 'contract', 'contractor', 'contrav', 'contraven', 'contribut', 'contributor', 'control', 'conven', 'conveni', 'convent', 'conver', 'convert', 'convey', 'convict', 'cook', 'cookwar', 'cooper', 'cooperativeagr', 'coordin', 'coot', 'cop', 'copay', 'copi', 'copper', 'copyright', 'core', 'coretta', 'corner', 'coronaviru', 'coronavirusrel', 'corp', 'corpor', 'correct', 'correspond', 'corridor', 'corrupt', 'cosmet', 'cost', 'costa', 'costcutt', 'costeffect', 'costofliv', 'costsav', 'costshar', 'cother', 'cottonwood', 'cough', 'could', 'council', 'counsel', 'counselor', 'count', 'counter', 'countermeasur', 'countermessag', 'counterterror', 'countervail', 'counti', 'countri', 'countylevel', 'coupl', 'cour', 'court', 'courteou', 'courthou', 'courtroom', 'courtyard', 'cover', 'coverag', 'coverdel', 'cowork', 'cprevent', 'cpsc', 'cr', 'crackdown', 'crag', 'crank', 'cranstongonzalez', 'crash', 'crater', 'crawfish', 'creat', 'creation', 'credenti', 'credibl', 'credit', 'creditexten', 'creditor', 'creditworthi', 'creek', 'cremat', 'crest', 'crevic', 'crime', 'crimea', 'crimin', 'criteria', 'critic', 'crook', 'crop', 'cross', 'crosscultur', 'crude', 'cruelti', 'crush', 'ctf', 'cuba', 'cuban', 'cultiv', 'cultur', 'culturegr', 'cum', 'cumul', 'cure', 'curecanti', 'currenc', 'currencytransact', 'current', 'curri', 'curricula', 'curricular', 'curriculum', 'custer', 'custodi', 'custom', 'customari', 'cut', 'cutanea', 'cyanobacteria', 'cyber', 'cyberattack', 'cybercorp', 'cybersecur', 'cyberspac', 'daca', 'daili', 'dakota', 'dam', 'damag', 'danger', 'dark', 'data', 'databa', 'date', 'daughter', 'daughterinlaw', 'day', 'dc', 'dd', 'de', 'deadli', 'deadlin', 'deal', 'dealer', 'death', 'debar', 'debat', 'debbi', 'debri', 'debt', 'debtor', 'dece', 'decea', 'deceiv', 'decemb', 'decenni', 'deci', 'decid', 'decil', 'declar', 'declaratori', 'declin', 'decommiss', 'decr', 'decrea', 'dedic', 'deduct', 'deem', 'deer', 'default', 'defeat', 'defect', 'defen', 'defend', 'defer', 'deficit', 'defin', 'definit', 'defraud', 'defund', 'degr', 'degrad', 'deidentif', 'del', 'delawar', 'delay', 'deleg', 'deleteri', 'delib', 'delin', 'delinqu', 'deliv', 'deliveri', 'delta', 'demand', 'demilitar', 'democraci', 'democrat', 'demograph', 'demonstr', 'demot', 'dengu', 'deni', 'denial', 'dental', 'dentistri', 'dentur', 'denver', 'depart', 'departmentwid', 'departur', 'depend', 'depict', 'deplet', 'deploy', 'deport', 'deposit', 'depositori', 'depreci', 'deputi', 'deregulatori', 'derelict', 'deriv', 'descend', 'descent', 'deschut', 'describ', 'descript', 'desert', 'deserv', 'design', 'designbuild', 'desir', 'desoto', 'destabil', 'destroy', 'destruct', 'detach', 'detail', 'detain', 'detect', 'detector', 'detent', 'deter', 'determin', 'deterr', 'detriment', 'develop', 'developmentdepart', 'devi', 'devic', 'devil', 'dfinanc', 'dh', 'dhss', 'diabet', 'diagno', 'diagnosi', 'diagnost', 'dialogu', 'dialysi', 'diatomit', 'did', 'die', 'diego', 'diem', 'diesel', 'dietari', 'differ', 'differenti', 'digit', 'digniti', 'dilig', 'dillingham', 'dimen', 'dine', 'dioxid', 'diplomaci', 'diplomat', 'dire', 'direct', 'directli', 'director', 'directtoconsum', 'disabilityspecif', 'disabl', 'disadvantag', 'disapprov', 'disast', 'disbur', 'discard', 'discharg', 'disciplin', 'disciplinari', 'disclaim', 'disclo', 'disclosur', 'discontinu', 'discount', 'discourag', 'discov', 'discoveri', 'discreet', 'discret', 'discretionari', 'discrimin', 'discriminatori', 'discuss', 'disea', 'diseasecarri', 'disenrol', 'dishonor', 'disinfect', 'disinform', 'disloc', 'dismantl', 'dismemb', 'dismiss', 'disord', 'dispar', 'dispen', 'displac', 'display', 'dispo', 'disposit', 'disproport', 'disproportionateshar', 'disput', 'disqualif', 'disqualifi', 'disregard', 'disrupt', 'dissemin', 'dissent', 'distanc', 'distil', 'distinct', 'distress', 'distribut', 'distributor', 'district', 'ditch', 'diver', 'diversifi', 'divest', 'divestitur', 'divi', 'divid', 'dividend', 'divorc', 'dna', 'do', 'doctor', 'doctrin', 'document', 'dod', 'doe', 'doenat', 'dog', 'dogfish', 'doherti', 'doj', 'dole', 'dollar', 'domain', 'dome', 'domest', 'domicil', 'domin', 'donat', 'done', 'donor', 'donotc', 'dont', 'dosag', 'dose', 'dot', 'doubl', 'dougla', 'douglass', 'downgrad', 'download', 'downplay', 'downwind', 'draft', 'drain', 'drainag', 'draw', 'dream', 'dreamer', 'dredg', 'dress', 'dri', 'drill', 'drink', 'drive', 'driver', 'drought', 'drug', 'drugshortag', 'drugstor', 'drunk', 'dryredwat', 'dual', 'dualu', 'duck', 'due', 'dump', 'dune', 'duplic', 'durabl', 'durat', 'dure', 'duti', 'dwell', 'ea', 'eac', 'each', 'ear', 'earli', 'earlier', 'earliest', 'earn', 'earner', 'earthquak', 'easement', 'easi', 'easili', 'easley', 'east', 'eastern', 'eastval', 'eat', 'ebola', 'ecolog', 'econom', 'economi', 'ecosystem', 'ed', 'edg', 'editori', 'educ', 'edward', 'eeoc', 'effect', 'efficaci', 'effici', 'effluent', 'effort', 'eg', 'egov', 'egovern', 'ehealth', 'eidl', 'eight', 'eightweek', 'either', 'el', 'elap', 'elderli', 'elect', 'electionadministr', 'electionsystem', 'elector', 'electr', 'electrif', 'electron', 'element', 'elementari', 'eleph', 'elev', 'eleventh', 'elig', 'elijah', 'elimin', 'elk', 'elli', 'elsewh', 'email', 'emancip', 'embargo', 'embassi', 'emblem', 'embryo', 'embryriddl', 'emend', 'emerg', 'emergencysec', 'emigr', 'emin', 'emiss', 'emit', 'emmett', 'emori', 'emot', 'emphasi', 'empir', 'employ', 'employeesspecif', 'employerpaid', 'employerprovid', 'employmentrel', 'empow', 'enabl', 'enact', 'encompass', 'encount', 'encourag', 'encumb', 'end', 'endang', 'endeavor', 'endoflif', 'endor', 'endow', 'endstag', 'endu', 'enemi', 'energi', 'energywat', 'enforc', 'enforcementrel', 'engag', 'engin', 'england', 'english', 'engrav', 'enhanc', 'enjoy', 'enough', 'enrich', 'enrol', 'ensur', 'enter', 'enterpri', 'entir', 'entireti', 'entiti', 'entitl', 'entrepreneur', 'entrepreneuri', 'entrepreneurship', 'entri', 'enum', 'envi', 'environ', 'envoy', 'epa', 'epic', 'epidem', 'epidemiolog', 'equal', 'equip', 'equit', 'equiti', 'equiv', 'era', 'erisa', 'ero', 'error', 'erupt', 'escrow', 'especi', 'espionag', 'essenti', 'establish', 'estat', 'estero', 'esther', 'esthet', 'estim', 'estuari', 'estuarin', 'etch', 'ethanol', 'ethic', 'ethnic', 'euthan', 'evacu', 'evalu', 'even', 'event', 'ever', 'everglad', 'everi', 'everifi', 'everyon', 'evict', 'evid', 'evidenceba', 'exam', 'examin', 'exampl', 'exc', 'exceed', 'excel', 'except', 'excess', 'exchang', 'exci', 'exclu', 'exclud', 'execut', 'exemplari', 'exempt', 'exerci', 'exhaust', 'exhibit', 'exist', 'exoffend', 'expan', 'expand', 'expatri', 'expect', 'exped', 'expedi', 'expedit', 'expen', 'expend', 'expenditur', 'experi', 'experienc', 'expert', 'experti', 'expir', 'explain', 'explan', 'explanatori', 'explicitli', 'explo', 'exploit', 'explor', 'expo', 'exponenti', 'export', 'exposur', 'express', 'expressli', 'expung', 'exten', 'extend', 'extent', 'extenu', 'exterior', 'extern', 'extinguish', 'extort', 'extract', 'extracurricular', 'extraordinari', 'extrem', 'extremist', 'eye', 'eyeglass', 'faa', 'facad', 'face', 'facetofac', 'facil', 'facilit', 'fact', 'factor', 'faculti', 'fahrenheit', 'fail', 'failur', 'fair', 'fairlawn', 'fairport', 'fairtax', 'faith', 'fal', 'fall', 'fallen', 'famili', 'familysponsor', 'familysustain', 'fanni', 'fannin', 'far', 'farewel', 'farm', 'farmer', 'farmtoschool', 'fasb', 'fashion', 'fast', 'faster', 'fastlan', 'fault', 'fbi', 'fcc', 'fda', 'fdato', 'feaa', 'fear', 'feasibl', 'featur', 'februari', 'fec', 'fed', 'feder', 'federalaid', 'federalst', 'fee', 'feed', 'feeforserv', 'feet', 'fehb', 'feiss', 'fellow', 'fellowship', 'felon', 'feloni', 'fema', 'femal', 'femaleown', 'fenc', 'fentanyl', 'fer', 'fercmust', 'fertil', 'fetal', 'fetu', 'fewer', 'ffa', 'fha', 'fhwa', 'fide', 'fiduciari', 'field', 'fight', 'fighter', 'figur', 'file', 'fill', 'film', 'filthi', 'fin', 'final', 'financ', 'financialaid', 'find', 'fine', 'finger', 'fintech', 'fire', 'firearm', 'firefight', 'firm', 'first', 'firstclass', 'firsttim', 'fiscal', 'fish', 'fisheri', 'fishway', 'fit', 'five', 'fiveyear', 'fix', 'flag', 'flagstaff', 'flake', 'flame', 'flammabl', 'flander', 'flat', 'flavor', 'fleet', 'flexibl', 'fli', 'flight', 'flood', 'floodproof', 'florenc', 'florida', 'floriss', 'flow', 'floyd', 'flpma', 'fluenci', 'fluid', 'fluorin', 'fmap', 'fmcsa', 'foam', 'focal', 'focu', 'follow', 'followup', 'food', 'foot', 'footag', 'for', 'forbear', 'forc', 'forcibl', 'forecast', 'foreclosur', 'foreclosurerel', 'forego', 'foreign', 'foreignmilitari', 'foren', 'forest', 'forestri', 'forfeit', 'forfeitur', 'forgiv', 'forgiven', 'forgon', 'fork', 'form', 'formal', 'format', 'former', 'formerli', 'formul', 'formula', 'formulari', 'forprofit', 'fort', 'forth', 'forum', 'forward', 'fossil', 'foster', 'found', 'foundat', 'founder', 'fountain', 'four', 'fourleaf', 'fourperson', 'fourth', 'fouryear', 'foverthecount', 'fowler', 'fra', 'frack', 'fraction', 'fractur', 'fragment', 'frame', 'framework', 'franc', 'franchi', 'franchis', 'franchisor', 'frank', 'franklin', 'fraud', 'fraudul', 'frazier', 'fred', 'freddi', 'frederica', 'free', 'freed', 'freedom', 'freeload', 'freeport', 'freight', 'fremont', 'frenchman', 'frequenc', 'frequent', 'fresh', 'freshwat', 'fresno', 'friend', 'friendship', 'fring', 'frivol', 'from', 'frrom', 'fsa', 'fsr', 'fta', 'ftc', 'fto', 'fuca', 'fuel', 'fugit', 'fulfil', 'full', 'fulli', 'fulltim', 'fullyear', 'fulton', 'function', 'fund', 'fundament', 'fundrai', 'funer', 'fungicid', 'furlough', 'furnish', 'further', 'furthermor', 'fusion', 'futur', 'fw', 'ga', 'gain', 'gainshar', 'gait', 'gallatin', 'gallaudet', 'gallon', 'galveston', 'game', 'gameba', 'gamet', 'gang', 'gao', 'gap', 'garfield', 'garnish', 'gase', 'gasolin', 'gate', 'gateway', 'gather', 'gave', 'gca', 'gear', 'gem', 'gender', 'genderneutr', 'genderspecif', 'gener', 'generalist', 'generationskip', 'genet', 'genit', 'geniu', 'geograph', 'geolog', 'georg', 'georgia', 'georgian', 'geotherm', 'geriatr', 'geriatrician', 'germani', 'gestat', 'get', 'ghost', 'gift', 'gig', 'gilman', 'ginni', 'girish', 'girl', 'give', 'given', 'glacier', 'glass', 'glen', 'glendal', 'global', 'glori', 'go', 'goal', 'gold', 'golden', 'good', 'goodfaith', 'govern', 'governmentgr', 'governmentissu', 'governmentwid', 'governor', 'gpo', 'gracefarleyklug', 'grade', 'grader', 'gradient', 'graduat', 'grain', 'grandfath', 'grant', 'grantor', 'grantsinaid', 'grape', 'grass', 'gratuit', 'gratuiti', 'gravel', 'gravelli', 'graze', 'great', 'greater', 'greatest', 'green', 'greenhou', 'grid', 'gross', 'grossli', 'ground', 'groundwat', 'group', 'grouseland', 'grow', 'grown', 'growth', 'gsa', 'guaido', 'guam', 'guarant', 'guaranti', 'guard', 'guardian', 'guardspecif', 'guid', 'guidanc', 'guidelin', 'guideway', 'gulch', 'gulf', 'gun', 'guzman', 'gypsum', 'ha', 'habitat', 'habitu', 'hack', 'hackett', 'had', 'haiti', 'haitian', 'hale', 'half', 'hampshir', 'hampton', 'hand', 'handgun', 'handicap', 'haqqani', 'harakat', 'harass', 'harbor', 'hardhat', 'hardship', 'harm', 'harmless', 'harri', 'harriston', 'harvest', 'hate', 'have', 'hawaii', 'hawaiian', 'hawkinsvil', 'hazard', 'haze', 'hbcu', 'hdhp', 'he', 'head', 'headgat', 'headquart', 'health', 'healthcar', 'healthclaim', 'healthi', 'healthinsur', 'healthprofess', 'healthrel', 'hear', 'heart', 'heartbeat', 'heir', 'held', 'helicopt', 'helminth', 'help', 'helton', 'hemisph', 'hemp', 'henlopen', 'henri', 'her', 'herbicid', 'hereditari', 'herit', 'heritag', 'hero', 'heroin', 'hh', 'hi', 'hidden', 'high', 'highcost', 'highcrim', 'highdemand', 'higher', 'highest', 'highimpact', 'highli', 'highlight', 'highperform', 'highqual', 'highsecur', 'highway', 'highwayrail', 'hike', 'hill', 'hinchey', 'hinder', 'hire', 'histor', 'histori', 'hivaid', 'hizballah', 'hobbi', 'hog', 'hold', 'holder', 'holi', 'holiday', 'holist', 'holl', 'hollingsworth', 'holocaust', 'home', 'homebuy', 'homedeliv', 'homeland', 'homeless', 'homeown', 'homeschool', 'honest', 'honey', 'honold', 'honor', 'honorari', 'hor', 'horseback', 'hospic', 'hospicerel', 'hospit', 'hostag', 'hostagetak', 'hostil', 'hotel', 'hotlin', 'hou', 'hour', 'hourli', 'household', 'houston', 'how', 'howard', 'howev', 'hr', 'hra', 'hsa', 'htf', 'huawei', 'hubzon', 'hud', 'hudson', 'hudvash', 'human', 'humanitarian', 'humanwildlif', 'hungri', 'hunt', 'hunter', 'hurrican', 'husband', 'hyacinth', 'hyde', 'hydraul', 'hydroelectr', 'hydrogen', 'hydropow', 'hygien', 'hypox', 'hypoxia', 'iaddress', 'iagricultur', 'ice', 'icorp', 'id', 'idaho', 'idea', 'ident', 'identif', 'identifi', 'ideolog', 'idepart', 'ie', 'if', 'ig', 'ignit', 'ih', 'ihe', 'ii', 'iiaccess', 'iiassist', 'iidepart', 'iiexecut', 'iifarm', 'iii', 'iiicontinu', 'iiigen', 'iiihuman', 'iiiinnov', 'iiindepend', 'iiinterest', 'iiipart', 'iiirel', 'iiirur', 'iiisupport', 'iiith', 'iimedicaid', 'iimedicar', 'iiuser', 'ikeep', 'ileana', 'ill', 'illeg', 'illicit', 'illinoi', 'ilow', 'imag', 'imedicar', 'immedi', 'immigr', 'immigrationrel', 'immin', 'immun', 'imp', 'impact', 'impair', 'imparti', 'imperi', 'implant', 'implement', 'impli', 'implic', 'impo', 'import', 'imposit', 'impoverish', 'imprison', 'improp', 'improperli', 'improv', 'in', 'inaccess', 'inaccur', 'inact', 'inadequ', 'inadmiss', 'inappl', 'inappropri', 'inaugur', 'inc', 'incap', 'incapac', 'incarc', 'incent', 'incentiv', 'incest', 'incid', 'inclu', 'includ', 'incom', 'incomeba', 'incomecont', 'incomplet', 'inconsist', 'incorpor', 'increa', 'increment', 'incumb', 'incur', 'indebt', 'indemand', 'indemn', 'independ', 'index', 'indian', 'indiana', 'indic', 'indict', 'indirect', 'individu', 'induc', 'industri', 'industryrecogn', 'ineffect', 'ineffici', 'inelig', 'infant', 'infect', 'infecti', 'infertil', 'infest', 'inflamm', 'inflat', 'inflict', 'inflight', 'influenc', 'inform', 'infr', 'infrastructur', 'ingredi', 'inhibit', 'inhold', 'inhom', 'initi', 'inject', 'injunct', 'injur', 'injuri', 'inland', 'inlieu', 'inmat', 'innetwork', 'innov', 'inop', 'inpati', 'inperson', 'inquiri', 'insect', 'insecticid', 'inserv', 'insid', 'insolv', 'inspect', 'inspector', 'inspir', 'instal', 'instanc', 'instant', 'instat', 'instead', 'institut', 'instruct', 'instructor', 'instrument', 'insuffici', 'insul', 'insular', 'insulin', 'insur', 'intak', 'intang', 'integr', 'intellectu', 'intellig', 'intelligencerel', 'inten', 'intend', 'intent', 'interact', 'interag', 'interc', 'interchang', 'interconnect', 'interdict', 'interest', 'interestfr', 'interf', 'intergen', 'interim', 'interior', 'interlock', 'intermedi', 'intermediari', 'intermitt', 'intern', 'internet', 'internetfac', 'internship', 'interop', 'interperson', 'interpret', 'interrupt', 'intersect', 'interst', 'interv', 'interven', 'interview', 'intimid', 'into', 'intol', 'intox', 'introduc', 'introduct', 'intru', 'inva', 'invalid', 'inventori', 'invert', 'invest', 'investig', 'investor', 'involuntari', 'involv', 'iotc', 'iowa', 'ipr', 'ir', 'iran', 'iranian', 'iraq', 'iraqi', 'irc', 'irgc', 'irma', 'iron', 'irrig', 'is', 'isabel', 'islam', 'island', 'islandsonli', 'isol', 'israel', 'issu', 'issuanc', 'issuer', 'istat', 'it', 'item', 'itself', 'iv', 'ivdistrict', 'ivdomest', 'ivdrug', 'iveconom', 'ivet', 'ivgen', 'ivhealth', 'ivpubl', 'ix', 'jabg', 'jackson', 'jag', 'jamaica', 'jamal', 'jame', 'jamestown', 'januari', 'japan', 'jennif', 'jeopard', 'jerri', 'jersey', 'joaquin', 'job', 'jobassist', 'john', 'join', 'joinder', 'joint', 'jointli', 'jone', 'jonesboro', 'jordan', 'joseph', 'josephin', 'joshua', 'joslyn', 'journalist', 'jr', 'juan', 'juarez', 'judg', 'judgement', 'judgeship', 'judgment', 'judici', 'judiciari', 'juli', 'julian', 'junction', 'june', 'jungl', 'juri', 'jurisdict', 'juror', 'just', 'justic', 'justif', 'justifi', 'juvenil', 'kansa', 'kaolin', 'kate', 'keep', 'kennedi', 'kennesaw', 'kennewick', 'kentucki', 'kerosen', 'kettl', 'key', 'khashoggi', 'kid', 'kidnap', 'kidney', 'kill', 'kilowatt', 'kimberli', 'kind', 'kindergarten', 'king', 'kingdom', 'kissimm', 'kit', 'kleptocraci', 'knife', 'knive', 'know', 'knowingli', 'knowledg', 'known', 'korea', 'korean', 'korematsu', 'kurdekar', 'la', 'label', 'labor', 'laboratori', 'labormanag', 'lack', 'lactat', 'ladder', 'laid', 'laith', 'lake', 'lakeshor', 'lame', 'lancast', 'land', 'landfil', 'landgrant', 'landlord', 'landown', 'landownership', 'landscap', 'landu', 'landwarddip', 'langhorn', 'languag', 'lap', 'larg', 'lascivi', 'last', 'late', 'latenc', 'later', 'latest', 'latitud', 'latter', 'launch', 'launder', 'lava', 'law', 'lawenforc', 'lawmak', 'lawrel', 'lawrenc', 'lawsuit', 'layoff', 'lcafd', 'lea', 'lead', 'leader', 'leadership', 'leadfr', 'leagu', 'leak', 'learn', 'leasehold', 'least', 'leasto', 'leav', 'lee', 'leech', 'leed', 'legaci', 'legal', 'legisl', 'legislatur', 'legitim', 'len', 'lend', 'lender', 'length', 'lengthen', 'leopardu', 'leprosi', 'less', 'lessen', 'lesser', 'lessor', 'lester', 'let', 'lethal', 'letter', 'leve', 'level', 'leverag', 'leverageratio', 'lewd', 'lewi', 'liabil', 'liabl', 'liberti', 'librari', 'libya', 'licen', 'licens', 'lie', 'lien', 'lieu', 'life', 'lifecycl', 'lifeendang', 'lifelin', 'lifelong', 'lifesav', 'lifethreaten', 'lift', 'light', 'lightduti', 'like', 'likelihood', 'limb', 'limeston', 'limit', 'limiteddur', 'lincoln', 'line', 'linger', 'link', 'lionfish', 'liquefi', 'liquid', 'lisa', 'list', 'literaci', 'litig', 'littl', 'live', 'livestock', 'livingston', 'llc', 'lng', 'load', 'loan', 'loanrepay', 'lobbi', 'lobbyist', 'loc', 'local', 'locat', 'locationtrack', 'lock', 'locker', 'loera', 'log', 'logist', 'lone', 'long', 'longdist', 'longer', 'longev', 'longrang', 'longstand', 'longterm', 'look', 'loophol', 'lose', 'loss', 'lost', 'loui', 'louisiana', 'louisvil', 'low', 'lowdemand', 'lowel', 'lower', 'lowerti', 'lowervalu', 'lowest', 'lowincom', 'lowinterest', 'lowoxygen', 'lowwag', 'loyalti', 'lumma', 'lunch', 'lung', 'lyme', 'lynch', 'ma', 'mac', 'machin', 'machinist', 'mackinac', 'macon', 'made', 'madison', 'maduro', 'mae', 'magazin', 'maghreb', 'magnusonsteven', 'mail', 'mailabl', 'main', 'maintain', 'mainten', 'major', 'majordisast', 'make', 'male', 'malfea', 'malign', 'mall', 'manag', 'manageri', 'mandat', 'mandatori', 'manhattan', 'mani', 'manifest', 'manipul', 'manmad', 'manner', 'manpow', 'manual', 'manufactur', 'map', 'mapl', 'marad', 'maraud', 'march', 'mare', 'maria', 'mariana', 'marihuana', 'marijuana', 'marijuanarel', 'marin', 'marit', 'maritim', 'mark', 'market', 'marketba', 'marketori', 'marketplac', 'marri', 'marriag', 'marshal', 'martinez', 'maryland', 'mashp', 'mask', 'mass', 'massachusett', 'master', 'mastic', 'match', 'matchmak', 'materi', 'mathemat', 'matter', 'matthew', 'matur', 'maud', 'mauric', 'maxim', 'maximum', 'maxwel', 'may', 'mayor', 'mcauliff', 'mcgoverndol', 'mckinney', 'meal', 'mean', 'meanstest', 'measur', 'mechan', 'medal', 'medgar', 'media', 'median', 'mediarel', 'medic', 'medicaid', 'medicaidfund', 'medicaleduc', 'medicalgrad', 'medicalresearch', 'medicar', 'medicareelig', 'medicin', 'medigap', 'medina', 'medium', 'medkit', 'medullari', 'meet', 'megella', 'member', 'membership', 'membran', 'memoranda', 'memorandum', 'memori', 'men', 'mendocino', 'menstrual', 'mental', 'mention', 'mentor', 'mentorba', 'mentorproteg', 'mentorship', 'merchandi', 'merchant', 'merg', 'mergan', 'merger', 'mergerandacquisit', 'merit', 'meritreview', 'meritstaf', 'merril', 'mesa', 'messag', 'met', 'meteorolog', 'methan', 'method', 'methodolog', 'metric', 'metropolitan', 'metropolitanwid', 'mexicali', 'mexican', 'mexico', 'mhz', 'miami', 'michoel', 'micro', 'microb', 'microenterpri', 'microfin', 'microloan', 'microorgan', 'microstamp', 'midatl', 'middecad', 'middl', 'middletown', 'midland', 'midnight', 'midsiz', 'migrat', 'migratori', 'mile', 'militari', 'milk', 'mill', 'millennium', 'millerwood', 'million', 'mine', 'miner', 'minim', 'minimi', 'minimum', 'ministri', 'minnesota', 'minor', 'mint', 'minturn', 'minut', 'miracl', 'mirror', 'misappropri', 'misbrand', 'miscellan', 'misclassif', 'misclassifi', 'misconduct', 'misdemeanor', 'misidentifi', 'mislead', 'mismanag', 'misrepr', 'misrepres', 'mission', 'mississippi', 'misstat', 'misu', 'mitig', 'mix', 'mobil', 'modal', 'mode', 'model', 'moder', 'moderateimpact', 'modern', 'modif', 'modifi', 'mohav', 'moment', 'monetari', 'money', 'moneylaund', 'moneymarket', 'monitor', 'monograph', 'monomoy', 'monro', 'montana', 'montauk', 'month', 'monthli', 'monument', 'moo', 'moor', 'moral', 'moratorium', 'more', 'moriah', 'morri', 'mortal', 'mortgag', 'mosquito', 'mosquitoborn', 'most', 'mother', 'motion', 'motor', 'motorboat', 'mound', 'mountain', 'move', 'movement', 'msa', 'mt', 'much', 'muchne', 'muffler', 'muhammad', 'multiag', 'multiemploy', 'multifamili', 'multifamilyproperti', 'multijurisdict', 'multimod', 'multin', 'multipl', 'multipleag', 'multiplesourc', 'multipli', 'multispeci', 'multist', 'multistakehold', 'municip', 'munit', 'mural', 'murder', 'murray', 'murrieta', 'museum', 'muslim', 'musselshelljudith', 'must', 'mutil', 'mutual', 'mutualfund', 'myanmar', 'myrli', 'name', 'namepl', 'nanci', 'nantucket', 'narrow', 'nasa', 'nash', 'nashua', 'nassau', 'natcher', 'nation', 'nationwid', 'nativ', 'nato', 'natur', 'navajo', 'naval', 'navi', 'navig', 'near', 'nebraska', 'necess', 'necessari', 'need', 'needba', 'needi', 'needl', 'neg', 'neglect', 'neglig', 'negoti', 'neighbor', 'neighborhood', 'neither', 'neonat', 'nerv', 'nest', 'net', 'network', 'neurolog', 'neuromyel', 'neuropathi', 'nevada', 'never', 'new', 'newborn', 'newdrug', 'newli', 'newlypass', 'news', 'newton', 'next', 'nextgen', 'nez', 'nf', 'nfa', 'nfip', 'nhtsa', 'nic', 'nicol', 'nicola', 'nifa', 'nih', 'ninth', 'nissitissit', 'nlra', 'nmfn', 'nmo', 'no', 'node', 'noi', 'nomin', 'nonag', 'nonagricultur', 'nonappropri', 'nonattain', 'nonbank', 'nonbind', 'noncitizen', 'nonclear', 'noncola', 'noncompetit', 'noncompli', 'noncontigu', 'nondeduct', 'nondisclosur', 'nondiscrimin', 'nonemerg', 'nonemit', 'nonentitl', 'nonexclu', 'nonfed', 'nonfin', 'nonforeign', 'nonfrivol', 'nongovern', 'nonhospit', 'nonhuman', 'nonimmigr', 'noninstitut', 'noninterestbear', 'nonleth', 'nonlicens', 'nonloc', 'nonmarket', 'nonmotor', 'nonn', 'nonnato', 'nonparti', 'nonpartisan', 'nonpay', 'nonprescript', 'nonprofit', 'nonpubl', 'nonrecognit', 'nonrefund', 'nonrenew', 'nonresidenti', 'nonretali', 'nonroad', 'nonstandard', 'nonstat', 'nonstick', 'nontariff', 'nontradit', 'nonurban', 'nonva', 'nonviabl', 'nonviol', 'nopec', 'nor', 'norm', 'normal', 'north', 'northampton', 'northeast', 'northern', 'northwest', 'not', 'notar', 'notat', 'note', 'notforprofit', 'noth', 'notic', 'notif', 'notifi', 'notwithstand', 'novemb', 'now', 'noyc', 'np', 'nrc', 'nsf', 'nsr', 'ntd', 'nuclear', 'nullifi', 'number', 'numer', 'nur', 'nursemanag', 'nutrit', 'nw', 'oak', 'oakland', 'oasdi', 'oath', 'obama', 'obamacar', 'object', 'oblig', 'obligatori', 'oblit', 'obscen', 'observ', 'observatori', 'obsolet', 'obstetr', 'obtain', 'obver', 'obviou', 'occ', 'occa', 'occup', 'occupationspecif', 'occupi', 'occur', 'ocean', 'ocelot', 'ocmulg', 'oco', 'octob', 'oda', 'of', 'off', 'offen', 'offend', 'offer', 'offerincompromi', 'offeror', 'offhighway', 'offic', 'officesalari', 'offici', 'offlin', 'offset', 'offshor', 'offspr', 'ogden', 'oge', 'ohio', 'oil', 'ojibw', 'okeechob', 'oklahoma', 'old', 'oldag', 'older', 'olymp', 'omb', 'omiss', 'omit', 'on', 'onc', 'onduti', 'one', 'onetim', 'oneweek', 'oneyear', 'ongo', 'onjob', 'onli', 'onlin', 'onpremi', 'onset', 'onshor', 'onto', 'opaqu', 'open', 'openend', 'oper', 'opinion', 'opioid', 'opm', 'oppo', 'opportun', 'opposit', 'opt', 'optica', 'optin', 'option', 'or', 'oral', 'orang', 'order', 'orderli', 'orderrequest', 'ordin', 'ordinari', 'oregon', 'orem', 'organ', 'organiz', 'orient', 'origin', 'ossetia', 'ota', 'otc', 'otcdrug', 'other', 'otherwi', 'our', 'out', 'outbound', 'outbreak', 'outcom', 'outdoor', 'outer', 'outfit', 'outfitt', 'outlay', 'outlet', 'outli', 'outlin', 'outofnetwork', 'outofpocket', 'outofst', 'outpati', 'output', 'outreach', 'outsid', 'outstand', 'outstat', 'over', 'overbuild', 'overlap', 'overm', 'overpay', 'overreach', 'overrul', 'overs', 'oversea', 'overseen', 'oversight', 'overstay', 'overth', 'overthecount', 'overtim', 'overweight', 'owe', 'owl', 'own', 'owner', 'ownership', 'oyster', 'pace', 'pacif', 'pack', 'packag', 'packer', 'pact', 'paid', 'paidmedia', 'pain', 'paincap', 'paint', 'paiuteshoshon', 'pakistan', 'palli', 'palliativecar', 'pan', 'pandem', 'panel', 'panola', 'paper', 'paperwork', 'paralymp', 'paralysi', 'paramilitari', 'paraprofess', 'parasit', 'parcel', 'pardali', 'parent', 'parenthood', 'pari', 'parish', 'pariti', 'park', 'parkinson', 'parkland', 'parkway', 'parol', 'part', 'parti', 'partial', 'particip', 'particul', 'particular', 'particularli', 'partisan', 'partner', 'partnership', 'partsa', 'parttim', 'paso', 'pass', 'passag', 'passageway', 'passeng', 'passiv', 'passport', 'passthrough', 'past', 'patent', 'path', 'pathogen', 'patholog', 'pathway', 'patient', 'patriot', 'patrol', 'pattern', 'paul', 'pay', 'payabl', 'payasyougo', 'paycheck', 'paygo', 'payment', 'payrol', 'paz', 'pbgc', 'pdp', 'peac', 'peak', 'pediatr', 'peer', 'peerreview', 'peggi', 'pell', 'penal', 'penalti', 'penaltyfr', 'pend', 'pendleton', 'peninsula', 'pennsylvania', 'pension', 'peonag', 'peopl', 'peoplec', 'pepperel', 'per', 'perc', 'percent', 'percentag', 'percept', 'perciv', 'perfluoroalkyl', 'perform', 'perimet', 'perinat', 'period', 'periph', 'perk', 'perkin', 'perman', 'permil', 'permiss', 'permit', 'permitrel', 'perpetu', 'perpupil', 'persecut', 'persh', 'persist', 'person', 'personalrespon', 'personhood', 'personnel', 'pertain', 'pesticid', 'pet', 'petit', 'petroleum', 'pfa', 'pfc', 'pha', 'pharmaceut', 'pharmaci', 'pharmacist', 'phase', 'phasedin', 'phmsa', 'phoenix', 'phone', 'photo', 'photograph', 'physic', 'physician', 'physicianassist', 'physicianown', 'pierc', 'pike', 'pikesan', 'pilot', 'pin', 'pinal', 'pine', 'pinyonjunip', 'pipe', 'pipelin', 'pistol', 'pit', 'pittmanrobertson', 'pittsburgh', 'pivot', 'pl', 'place', 'placement', 'plain', 'plan', 'planner', 'planningrel', 'plant', 'plastic', 'plate', 'platform', 'play', 'pleasur', 'pledg', 'plu', 'plumb', 'pna', 'pneumat', 'poach', 'point', 'poison', 'polic', 'polici', 'polit', 'politicallymotiv', 'politicallyori', 'polk', 'poll', 'pollut', 'polyfluoroalkyl', 'polymet', 'poni', 'popul', 'populationba', 'populationwid', 'porcupin', 'pornographi', 'porphyria', 'port', 'portabl', 'portal', 'portion', 'portrait', 'portug', 'portugu', 'pose', 'posit', 'possess', 'possibl', 'post', 'postag', 'postal', 'postfertil', 'posthospit', 'posthum', 'postpon', 'postsecondari', 'posttraumat', 'potenti', 'pound', 'poverti', 'power', 'ppaca', 'practic', 'practit', 'preapprenticeship', 'preapprov', 'preauthor', 'prece', 'precipit', 'precisionguid', 'preclear', 'preclud', 'predat', 'predictor', 'predomin', 'predominantli', 'preempt', 'preexist', 'prefer', 'preferenti', 'pregnanc', 'pregnant', 'prek', 'prekindergarten', 'prelea', 'preliminari', 'premarket', 'prematur', 'premi', 'premium', 'prenotif', 'prepackag', 'prepaid', 'prepar', 'preparatori', 'preprint', 'prescrib', 'prescript', 'presenc', 'present', 'preserv', 'presid', 'presidentelect', 'presidenti', 'pressur', 'presum', 'presumpt', 'pretreat', 'pretrial', 'prevail', 'preval', 'prevent', 'previou', 'price', 'primari', 'primarili', 'primarycar', 'prime', 'princip', 'principl', 'print', 'prior', 'priorit', 'prioriti', 'prison', 'privaci', 'privat', 'privatelyown', 'privatesector', 'privileg', 'prize', 'pro', 'probabl', 'problem', 'proc', 'proce', 'procedur', 'proceed', 'process', 'proclam', 'procur', 'produc', 'product', 'profess', 'profici', 'profil', 'profit', 'program', 'programrel', 'progress', 'prohibit', 'project', 'projectba', 'prolong', 'promi', 'promot', 'prompt', 'promptli', 'promulg', 'prop', 'propaganda', 'propel', 'proper', 'properli', 'properti', 'propertyblock', 'propo', 'proport', 'proprietor', 'prorat', 'prosecut', 'prosecutor', 'prospect', 'prospectu', 'prosthet', 'protect', 'protector', 'protocol', 'prove', 'proven', 'provi', 'provid', 'provinc', 'provis', 'provisionsdistrict', 'provisionsgovernmentwid', 'provisionsthi', 'proxi', 'prrada', 'psychoact', 'psycholog', 'psychologist', 'public', 'publicbuild', 'publich', 'publichealth', 'publicli', 'publicpriv', 'publicsafeti', 'publicwork', 'publish', 'pueblo', 'puerto', 'pump', 'punish', 'purcha', 'purpl', 'purpo', 'pursu', 'pursuant', 'put', 'pyrrhotit', 'qai', 'quadrenni', 'qualif', 'qualifi', 'qualit', 'qualiti', 'qualitymeasur', 'quantiti', 'quarantin', 'quarter', 'quarterli', 'quasiautonom', 'queen', 'question', 'questionnair', 'quick', 'quickli', 'rabbi', 'rabi', 'race', 'racial', 'racket', 'radio', 'radiolog', 'radiu', 'rai', 'rail', 'railroad', 'ranch', 'rancher', 'random', 'rang', 'rangeland', 'rank', 'rape', 'rapid', 'rare', 'rata', 'ratabl', 'rate', 'rather', 'ratifi', 'ratio', 'ration', 'rawr', 'ray', 'reach', 'reacquisit', 'read', 'readabl', 'readi', 'readili', 'readjust', 'readonli', 'reaffirm', 'reagan', 'real', 'realloc', 'reap', 'reappropri', 'reason', 'reassign', 'reauthor', 'rebal', 'rebalanc', 'rebat', 'rebuild', 'rebutt', 'recal', 'recaptur', 'receipt', 'receiv', 'recent', 'recept', 'recertif', 'recipi', 'recipientreport', 'reciproc', 'reckless', 'recklessli', 'reclaim', 'reclam', 'reclassifi', 'recogn', 'recognit', 'recogniz', 'recommend', 'reconcili', 'reconnaiss', 'reconstruct', 'recontribut', 'record', 'recordkeep', 'recordlevel', 'recov', 'recoveri', 'recreat', 'recruit', 'recycl', 'red', 'redact', 'redecor', 'redefin', 'redesign', 'redistrict', 'redtap', 'reduc', 'reduct', 'reductionsinforc', 'redund', 'reemploy', 'reenerg', 'reenter', 'reentri', 'reestablish', 'refer', 'referendum', 'referr', 'refil', 'refin', 'refinanc', 'reflect', 'reform', 'refu', 'refuel', 'refug', 'refund', 'regard', 'regardless', 'region', 'regionsouth', 'regist', 'registr', 'registri', 'regul', 'regular', 'regularli', 'regulatori', 'rehabilit', 'rehir', 'reimbur', 'reincarc', 'reindeer', 'reinforc', 'reinjuri', 'reinspect', 'reinstat', 'reinsur', 'reintegr', 'reinvest', 'reinvestig', 'rejoin', 'rel', 'relabel', 'relat', 'relationship', 'relea', 'relev', 'reli', 'reliabl', 'relianc', 'relief', 'reliev', 'religi', 'religion', 'relinquish', 'reloc', 'remain', 'remedi', 'remin', 'remit', 'remitt', 'remot', 'remov', 'renal', 'renam', 'render', 'renew', 'renounc', 'renov', 'rent', 'rental', 'renter', 'renunci', 'reorgan', 'repaid', 'repair', 'repar', 'repatri', 'repay', 'repeal', 'replac', 'replic', 'report', 'repositori', 'repr', 'repres', 'reprocess', 'reproduct', 'reprogram', 'republ', 'republican', 'repugn', 'repurcha', 'repurpo', 'reput', 'request', 'requestor', 'requir', 'requirementsappli', 'rescind', 'resciss', 'rescu', 'research', 'reserv', 'reservist', 'reservoir', 'resid', 'residenti', 'residu', 'resili', 'resilienceenhanc', 'resist', 'resolut', 'resolv', 'resourc', 'resourceshortf', 'respect', 'respiratori', 'respit', 'respon', 'respond', 'rest', 'restitut', 'restor', 'restrain', 'restrict', 'restroom', 'restructur', 'result', 'resum', 'resurvey', 'retail', 'retain', 'retali', 'retent', 'retir', 'retirementcredit', 'retrain', 'retriev', 'retroact', 'retrofit', 'retrospect', 'return', 'reu', 'reunif', 'reunifi', 'reusabl', 'rev', 'revalid', 'reveal', 'revenu', 'rever', 'reverifi', 'reversionari', 'revert', 'revi', 'review', 'revit', 'reviv', 'revoc', 'revok', 'revolut', 'revolutionari', 'revolv', 'reward', 'rey', 'rf', 'rh', 'rhinocero', 'rhode', 'rico', 'ridg', 'rifl', 'rig', 'right', 'rightofway', 'rightsofway', 'rim', 'riot', 'rise', 'risk', 'riskba', 'riskcommun', 'riskmanag', 'river', 'riversid', 'road', 'robert', 'robo', 'roboc', 'robot', 'rock', 'rocki', 'rodchenkov', 'rodenticid', 'rogu', 'role', 'roll', 'room', 'roosevelt', 'root', 'roslehtinen', 'rotorcraft', 'round', 'rout', 'routin', 'royalti', 'ruia', 'rule', 'rulemak', 'runoff', 'rural', 'russia', 'russian', 'sabin', 'sacr', 'sacramentosan', 'safari', 'safe', 'safeguard', 'safer', 'safeti', 'sagegr', 'sahel', 'saint', 'saintgauden', 'salari', 'salazar', 'sale', 'salmon', 'salt', 'salton', 'same', 'sameday', 'samoa', 'sampl', 'san', 'sanction', 'sanctiti', 'sanctuari', 'sand', 'sandi', 'sanit', 'santa', 'saracini', 'sarah', 'sarbanesoxley', 'satelliteba', 'satisfactori', 'satisfi', 'saudi', 'saudil', 'save', 'saw', 'sba', 'sbic', 'sbir', 'scenic', 'schedul', 'scheme', 'scholar', 'scholarship', 'scholarshipforserv', 'schoodic', 'school', 'schoolba', 'schoolwid', 'scienc', 'sciencerel', 'scientif', 'scientist', 'sclerosi', 'scope', 'score', 'scorekeep', 'scott', 'scrap', 'screen', 'screener', 'scrutini', 'sea', 'seafood', 'seal', 'sean', 'search', 'searchabl', 'seashor', 'season', 'seat', 'seaway', 'sebeliu', 'sec', 'second', 'secondari', 'secret', 'secretari', 'section', 'sector', 'secur', 'sedney', 'seed', 'seek', 'seeker', 'seen', 'segment', 'segreg', 'seismic', 'seiz', 'seizur', 'select', 'selfdefen', 'selfdirect', 'selfemploy', 'selfevalu', 'selfhelp', 'selfisol', 'selfreferr', 'selfregulatori', 'selfsuffici', 'sell', 'seller', 'semest', 'semiannu', 'semiautomat', 'semipost', 'sen', 'senat', 'senateconfirm', 'send', 'sender', 'senior', 'sensibl', 'sensit', 'sent', 'sentenc', 'sentinel', 'separ', 'septemb', 'sequest', 'sequestr', 'sequoyah', 'seri', 'serial', 'seriou', 'serv', 'servic', 'serviceconnect', 'servicedi', 'serviceman', 'servicememb', 'servicemen', 'servicessalari', 'servicewid', 'session', 'set', 'settlement', 'seven', 'sevenday', 'sever', 'sewag', 'sewer', 'sex', 'sexual', 'sexualriskavoid', 'shadow', 'shall', 'share', 'sharehold', 'shark', 'she', 'sheep', 'shelbi', 'shelf', 'shell', 'shellfish', 'shelter', 'shield', 'shift', 'ship', 'shipment', 'shipyard', 'shoe', 'shoot', 'shooter', 'shore', 'shorelin', 'short', 'shortag', 'shorten', 'shortterm', 'shorttim', 'should', 'show', 'shown', 'shrine', 'shush', 'shutdown', 'shuttl', 'sibl', 'sic', 'sick', 'sickl', 'side', 'sign', 'signal', 'signatur', 'signif', 'silenc', 'silica', 'silver', 'similar', 'similarli', 'simon', 'simpl', 'simplif', 'simultan', 'sinc', 'sincer', 'singl', 'singleemploy', 'singlesourc', 'sinkhol', 'site', 'siteneutr', 'situat', 'situationalawar', 'six', 'sixmonth', 'sixteenth', 'sixth', 'sixyear', 'size', 'skate', 'skedaddl', 'skill', 'slaughter', 'slave', 'slaveri', 'sleeper', 'slogan', 'slough', 'small', 'smallemploy', 'smart', 'smash', 'smith', 'smithsonian', 'smithtown', 'smoke', 'smokey', 'smuggl', 'snap', 'so', 'soar', 'social', 'socialwork', 'societi', 'sodium', 'soil', 'solar', 'sold', 'sole', 'solicit', 'solid', 'solidar', 'solut', 'solv', 'solvenc', 'solvent', 'some', 'someon', 'son', 'soninlaw', 'soon', 'sore', 'sortabl', 'sound', 'sourc', 'south', 'southampton', 'southern', 'southwest', 'southwestern', 'sovereign', 'sovereignti', 'space', 'spam', 'span', 'spawn', 'speaker', 'speci', 'special', 'specialist', 'specialti', 'specif', 'specifi', 'spectrum', 'speech', 'speed', 'spend', 'spent', 'spill', 'spina', 'spirit', 'spite', 'split', 'spoken', 'sponsor', 'sponsorown', 'sponsorship', 'sport', 'sportsrel', 'spot', 'spotlight', 'spou', 'spousal', 'spread', 'spreadpric', 'spring', 'springfield', 'squannacook', 'squar', 'ssa', 'ssact', 'ssi', 'st', 'stabil', 'staf', 'staff', 'stafford', 'staffyear', 'stage', 'stairca', 'stakehold', 'stalk', 'stamford', 'stamp', 'standalon', 'standard', 'stapl', 'star', 'stark', 'start', 'startup', 'state', 'statecontrol', 'statehood', 'stateinterior', 'stateless', 'statement', 'stateown', 'statesisrael', 'statesjordan', 'statesmexico', 'statewid', 'station', 'stationari', 'statist', 'statu', 'statut', 'statutori', 'stay', 'stc', 'steel', 'steelhead', 'steer', 'stem', 'stenholm', 'step', 'stephenson', 'steril', 'steven', 'stewardship', 'stewart', 'still', 'stillbirth', 'stimul', 'stipend', 'stipul', 'stock', 'stockpil', 'stockyard', 'stolen', 'stop', 'storag', 'store', 'storey', 'stori', 'storm', 'stormwat', 'strait', 'strateg', 'strategi', 'straw', 'streamlin', 'street', 'strength', 'strengthen', 'stress', 'stressor', 'stretch', 'strict', 'strike', 'stringenc', 'stringent', 'strive', 'stroke', 'strong', 'structur', 'sttr', 'student', 'studi', 'su', 'subaccount', 'subacut', 'subcategori', 'subcommitt', 'subcontract', 'subcontractor', 'subdivi', 'subduct', 'subgrant', 'subject', 'sublea', 'submerg', 'subminimum', 'submiss', 'submit', 'subpart', 'subpoena', 'subscrib', 'subscript', 'subsequ', 'subsid', 'subsidi', 'subsidiari', 'subsist', 'substanc', 'substanceu', 'substant', 'substanti', 'substitut', 'subtitl', 'succeed', 'success', 'successor', 'such', 'sudden', 'sue', 'suffer', 'suffici', 'suffrag', 'sugar', 'suicid', 'suit', 'suitabl', 'sulfid', 'sum', 'summari', 'sunday', 'sunscreen', 'sunset', 'superfund', 'superior', 'supers', 'supervi', 'supervisori', 'supplement', 'supplementari', 'suppli', 'supplier', 'support', 'suppress', 'suprem', 'sur', 'surcharg', 'surfac', 'surplu', 'surpri', 'surrend', 'surrog', 'surround', 'surveil', 'survey', 'surveyor', 'surviv', 'survivor', 'suspect', 'suspen', 'suspend', 'suspici', 'suspiciousact', 'susquehanna', 'sustain', 'swenson', 'switch', 'switchblad', 'sworn', 'symposium', 'syndrom', 'synthet', 'syre', 'syria', 'syrian', 'syrup', 'system', 'systemat', 'tab', 'tactic', 'tail', 'tailor', 'taiwan', 'take', 'taken', 'takeoff', 'talc', 'talibanaffili', 'tanana', 'tanasi', 'tanf', 'tanner', 'tarawaclass', 'tarda', 'target', 'tariff', 'task', 'tax', 'taxabl', 'taxat', 'taxexempt', 'taxfavor', 'taxpay', 'taxrel', 'taylor', 'tband', 'teach', 'teacher', 'team', 'technic', 'technician', 'techniqu', 'technolog', 'teenag', 'teeth', 'tefap', 'telecommun', 'teleconferenc', 'telegraph', 'telehealth', 'telemarket', 'telemedicin', 'telephon', 'televi', 'telework', 'teller', 'temperatur', 'tempor', 'temporari', 'temporarili', 'ten', 'tenanc', 'tenant', 'tenantba', 'tenmil', 'tenness', 'teresa', 'term', 'termin', 'terminolog', 'territori', 'terror', 'terrorist', 'tertiari', 'test', 'testifi', 'testimoni', 'teterboro', 'tetrahydrocannabinol', 'texa', 'text', 'thailand', 'than', 'that', 'thc', 'the', 'theft', 'their', 'them', 'then', 'theodor', 'therapeut', 'therapi', 'therapist', 'there', 'thereaft', 'therebi', 'therefor', 'these', 'thesecur', 'they', 'theyr', 'thi', 'thin', 'thing', 'third', 'thirdparti', 'thoma', 'thompson', 'those', 'threat', 'threaten', 'three', 'threeday', 'threefifth', 'threeyear', 'threshold', 'thrift', 'through', 'throughout', 'thu', 'tick', 'tickborn', 'ticket', 'tie', 'tiffani', 'tifia', 'tiger', 'till', 'timber', 'time', 'tini', 'tip', 'tissu', 'titl', 'to', 'tobacco', 'today', 'togeth', 'toledo', 'toll', 'tollfr', 'tomorrow', 'took', 'tool', 'topic', 'tortoi', 'tortur', 'total', 'tougaloo', 'tourism', 'toward', 'tower', 'town', 'townsit', 'toxic', 'toxicolog', 'tp', 'trace', 'traceabl', 'track', 'tract', 'trade', 'trademark', 'traderel', 'tradit', 'traffic', 'traffick', 'tragic', 'trail', 'trailwid', 'train', 'traineeship', 'trait', 'transact', 'transfer', 'transform', 'transit', 'transitiontosuccess', 'translat', 'transmiss', 'transmit', 'transnat', 'transpar', 'transplant', 'transport', 'transsahara', 'trash', 'trauma', 'traumac', 'traumainform', 'traumat', 'travel', 'treasuri', 'treat', 'treati', 'treatment', 'tree', 'tremont', 'trend', 'trial', 'tribal', 'tribe', 'triberun', 'tricar', 'triciti', 'trigger', 'trio', 'trip', 'tropic', 'troubl', 'truck', 'true', 'truman', 'trump', 'trust', 'truth', 'tsa', 'tskhinvali', 'tsp', 'tsunami', 'tucson', 'tuition', 'tular', 'tule', 'tunnison', 'turkic', 'turn', 'turtl', 'tuskeg', 'tutor', 'tva', 'twelfth', 'twice', 'twin', 'two', 'twohour', 'twoweek', 'twoyear', 'tyde', 'type', 'typhoon', 'typic', 'tyron', 'udal', 'ultim', 'ultrasound', 'umatilla', 'umra', 'umwa', 'un', 'unabl', 'unaccept', 'unaccompani', 'unaccount', 'unaccredit', 'unanim', 'unanticip', 'unauthor', 'unavail', 'unborn', 'unclassifi', 'uncommit', 'uncompahgr', 'uncompen', 'uncov', 'undefinit', 'under', 'undergo', 'undergradu', 'underground', 'undermin', 'underpaid', 'underpay', 'underrepr', 'underserv', 'understand', 'undertak', 'underutil', 'underwat', 'underway', 'undu', 'unemploy', 'unencumb', 'unenforc', 'unexpect', 'unexpend', 'unfair', 'unfit', 'unflavor', 'unfund', 'unifi', 'uniform', 'unilat', 'uninsur', 'unint', 'uninterrupt', 'union', 'unionvil', 'uniqu', 'unit', 'uniti', 'univ', 'unlaw', 'unless', 'unlicen', 'unload', 'unman', 'unmarri', 'unmet', 'unnecessari', 'unoblig', 'unpaid', 'unpat', 'unquest', 'unreason', 'unrecogn', 'unrel', 'unruptur', 'unsaf', 'unsatisfactori', 'until', 'unusu', 'up', 'updat', 'upfront', 'upgrad', 'upon', 'uranium', 'urban', 'urg', 'us', 'usag', 'usaid', 'usba', 'usda', 'use', 'user', 'usergen', 'useuicelandnorway', 'usfw', 'usg', 'usgsa', 'usmexico', 'usp', 'uspossess', 'uspto', 'uss', 'ustr', 'usual', 'utah', 'utensil', 'util', 'utter', 'uyghur', 'va', 'vaapprov', 'vacant', 'vacat', 'vaccin', 'valhalla', 'valid', 'vallejo', 'valley', 'valor', 'valu', 'valuabl', 'vancouv', 'vandana', 'vaprovid', 'variabl', 'varianc', 'varieti', 'variou', 'vcoronaviru', 'veget', 'vehicl', 'vendor', 'venezuela', 'venezuelan', 'ventur', 'veri', 'verif', 'verifi', 'vernon', 'versa', 'version', 'vessel', 'vest', 'vet', 'veteran', 'veteranown', 'veterinarian', 'vforeign', 'vi', 'via', 'viabl', 'vice', 'vicepresid', 'victim', 'video', 'vietnam', 'vietnameseamerican', 'view', 'viewabl', 'vigen', 'vii', 'viigen', 'viii', 'viiigen', 'viiimiscellan', 'viinih', 'villag', 'vimiscellan', 'vindepend', 'violat', 'violenc', 'violent', 'viprovid', 'virel', 'virgin', 'virginia', 'virtual', 'viru', 'visa', 'visibl', 'vision', 'visit', 'visitor', 'visual', 'vital', 'vmiscellan', 'vocat', 'voic', 'void', 'volatil', 'volcan', 'volcano', 'volum', 'volunt', 'voluntari', 'voluntarili', 'volunteerba', 'vose', 'vote', 'voter', 'voterverifi', 'voucher', 'voucherprogram', 'voyag', 'vprogram', 'vreasa', 'vulner', 'wa', 'wage', 'wait', 'waiv', 'waiver', 'walk', 'walkin', 'wall', 'walli', 'walter', 'wampanoag', 'war', 'warm', 'warn', 'warner', 'warrant', 'washburn', 'washington', 'wasson', 'wast', 'wastewat', 'watch', 'watchlist', 'water', 'watermark', 'watersh', 'waterway', 'way', 'we', 'weapon', 'weather', 'weatherproof', 'websit', 'week', 'weekli', 'weigh', 'weight', 'weissmandl', 'weld', 'welfar', 'well', 'wellb', 'were', 'west', 'western', 'wetland', 'wha', 'what', 'when', 'where', 'wherebi', 'wherein', 'whether', 'whi', 'which', 'whichev', 'while', 'whistleblow', 'white', 'who', 'whole', 'wholes', 'wholli', 'whom', 'whose', 'wic', 'wide', 'widen', 'widow', 'wife', 'wild', 'wilder', 'wildfir', 'wildland', 'wildlif', 'wildlifetraffick', 'wilk', 'will', 'william', 'wilson', 'wilwerth', 'win', 'windfal', 'wine', 'wingman', 'winnebago', 'with', 'withdraw', 'withdrawn', 'withheld', 'withhold', 'within', 'without', 'wolff', 'woman', 'womb', 'women', 'wood', 'woodland', 'woodpawcatuck', 'woodsi', 'word', 'work', 'workba', 'worker', 'workforc', 'workforcerel', 'workplac', 'workstudi', 'workweek', 'world', 'worldwid', 'worm', 'wotu', 'would', 'wound', 'wraparound', 'write', 'written', 'wwii', 'wyom', 'xg', 'xi', 'xii', 'xiii', 'xinjiang', 'yakama', 'yard', 'yavapai', 'year', 'yearli', 'yellowston', 'yemen', 'yield', 'ynez', 'yolla', 'york', 'young', 'younger', 'your', 'youth', 'ysleta', 'zerobaselin', 'zip', 'zone', 'zoonot', 'zte']\n",
      "Training Xs\n",
      "Testing Xs\n"
     ],
     "name": "stdout"
    },
    {
     "output_type": "execute_result",
     "data": {
      "text/html": [
       "<div>\n",
       "<style scoped>\n",
       "    .dataframe tbody tr th:only-of-type {\n",
       "        vertical-align: middle;\n",
       "    }\n",
       "\n",
       "    .dataframe tbody tr th {\n",
       "        vertical-align: top;\n",
       "    }\n",
       "\n",
       "    .dataframe thead th {\n",
       "        text-align: right;\n",
       "    }\n",
       "</style>\n",
       "<table border=\"1\" class=\"dataframe\">\n",
       "  <thead>\n",
       "    <tr style=\"text-align: right;\">\n",
       "      <th></th>\n",
       "      <th>0</th>\n",
       "    </tr>\n",
       "  </thead>\n",
       "  <tbody>\n",
       "    <tr>\n",
       "      <th>0</th>\n",
       "      <td>(0, 1742)\\t9\\n  (0, 4526)\\t10\\n  (0, 53)\\t1\\...</td>\n",
       "    </tr>\n",
       "    <tr>\n",
       "      <th>1</th>\n",
       "      <td>(0, 1742)\\t5\\n  (0, 4526)\\t15\\n  (0, 53)\\t2\\...</td>\n",
       "    </tr>\n",
       "    <tr>\n",
       "      <th>2</th>\n",
       "      <td>(0, 1742)\\t4\\n  (0, 4526)\\t4\\n  (0, 53)\\t2\\n...</td>\n",
       "    </tr>\n",
       "    <tr>\n",
       "      <th>3</th>\n",
       "      <td>(0, 1742)\\t4\\n  (0, 4526)\\t4\\n  (0, 3350)\\t1...</td>\n",
       "    </tr>\n",
       "    <tr>\n",
       "      <th>4</th>\n",
       "      <td>(0, 1742)\\t2\\n  (0, 4526)\\t24\\n  (0, 53)\\t1\\...</td>\n",
       "    </tr>\n",
       "  </tbody>\n",
       "</table>\n",
       "</div>"
      ],
      "text/plain": [
       "                                                   0\n",
       "0    (0, 1742)\\t9\\n  (0, 4526)\\t10\\n  (0, 53)\\t1\\...\n",
       "1    (0, 1742)\\t5\\n  (0, 4526)\\t15\\n  (0, 53)\\t2\\...\n",
       "2    (0, 1742)\\t4\\n  (0, 4526)\\t4\\n  (0, 53)\\t2\\n...\n",
       "3    (0, 1742)\\t4\\n  (0, 4526)\\t4\\n  (0, 3350)\\t1...\n",
       "4    (0, 1742)\\t2\\n  (0, 4526)\\t24\\n  (0, 53)\\t1\\..."
      ]
     },
     "metadata": {
      "tags": []
     },
     "execution_count": 58
    }
   ]
  },
  {
   "cell_type": "code",
   "metadata": {
    "id": "WzWNYE-kmnEo"
   },
   "source": [
    "\n",
    "# Random forests are a good model for when you have many features and relatively\n",
    "# few data points (e.g. 10,000s of predictive words, yet only 100s of bills)\n",
    "# Set random state to make runs repeatable\n",
    "clf = RandomForestClassifier(n_estimators=250, random_state=42)\n",
    "\n",
    "# Train the model using the training sets\n",
    "clf.fit(X_train, y_train)\n",
    "\n",
    "y_pred = clf.predict(X_test)\n",
    "\n",
    "pd.DataFrame(y_pred).head()\n",
    "\n",
    "# Model Accuracy, how often is the classifier correct?\n",
    "print(\"Accuracy:\", metrics.accuracy_score(y_test, y_pred))\n",
    "print(clf.feature_importances_)\n",
    "i = 0\n",
    "\n",
    "# should use pandas way...\n",
    "importances = list(zip(vectorizer.get_feature_names(), clf.feature_importances_))\n",
    "importances.sort(key=lambda x:x[1])\n",
    "importances = filter(lambda score: score[1] > 0, importances)\n",
    "\n",
    "i = 0\n",
    "for feat, importance in itertools.islice(importances, 20):\n",
    "    if importance == 0:\n",
    "        continue\n",
    "    print('feature: {f}, importance: {i}'.format(f=feat, i=importance))\n",
    "    i +=1 \n",
    "\n",
    "print(f\"Features scored: {i}\")\n",
    "\n",
    "# new_bill_text =\n",
    "# new_bill = vectorizer.fit_transform()\n",
    "# ad_hoc = clf.predict([\"\"])\n",
    "\n",
    "\n"
   ],
   "execution_count": null,
   "outputs": []
  }
 ]
}